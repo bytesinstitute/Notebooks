{
 "cells": [
  {
   "cell_type": "markdown",
   "id": "814598f5-4f0f-40e7-89e7-8d9c1c880230",
   "metadata": {},
   "source": [
    "# Installing NumPy"
   ]
  },
  {
   "cell_type": "code",
   "execution_count": 2,
   "id": "76ad790e-f6e5-45f9-86ec-05989d0e2299",
   "metadata": {},
   "outputs": [
    {
     "name": "stdout",
     "output_type": "stream",
     "text": [
      "Defaulting to user installation because normal site-packages is not writeable\n",
      "Requirement already satisfied: numpy in c:\\users\\priyanshu\\appdata\\roaming\\python\\python312\\site-packages (2.1.0)\n"
     ]
    }
   ],
   "source": [
    "!pip install numpy"
   ]
  },
  {
   "cell_type": "markdown",
   "id": "3824352f-f750-4dce-bace-0b351a79799d",
   "metadata": {},
   "source": [
    "# How to import NumPy"
   ]
  },
  {
   "cell_type": "code",
   "execution_count": 3,
   "id": "73bf017c-3e9e-4b51-a8d1-24eaae5c9a08",
   "metadata": {},
   "outputs": [],
   "source": [
    "import numpy as np"
   ]
  },
  {
   "cell_type": "markdown",
   "id": "ec4674fc-c69e-4c4a-9cbb-b27145ec6aaa",
   "metadata": {},
   "source": [
    "# Creating NumPy Arrays"
   ]
  },
  {
   "cell_type": "markdown",
   "id": "245b695c-d6ff-46eb-80f7-feb46c11c98d",
   "metadata": {},
   "source": [
    "## 1. Converting Python Sequence to NumPy Arrays"
   ]
  },
  {
   "cell_type": "code",
   "execution_count": 25,
   "id": "1c9cb6fc-3898-4e1a-a34d-181ee6457c7b",
   "metadata": {},
   "outputs": [
    {
     "data": {
      "text/plain": [
       "(array([1, 2, 3, 4]),\n",
       " array([[1, 2],\n",
       "        [3, 4]]))"
      ]
     },
     "execution_count": 25,
     "metadata": {},
     "output_type": "execute_result"
    }
   ],
   "source": [
    "a1D = np.array([1, 2, 3, 4]) # np.array() is a function not a method.\n",
    "a2D = np.array([[1, 2], [3, 4]])\n",
    "a1D, a2D"
   ]
  },
  {
   "cell_type": "markdown",
   "id": "0051cbfb-29df-4008-a23e-879b3794e6a4",
   "metadata": {},
   "source": [
    "### Array Attributes"
   ]
  },
  {
   "cell_type": "code",
   "execution_count": 33,
   "id": "13315c82-51bf-44df-b5bf-581b3375e47c",
   "metadata": {},
   "outputs": [
    {
     "data": {
      "text/plain": [
       "((2, 3), (4,))"
      ]
     },
     "execution_count": 33,
     "metadata": {},
     "output_type": "execute_result"
    }
   ],
   "source": [
    "arr = np.array([[1, 2, 3], [4, 5, 6]], dtype=np.int8)\n",
    "arr.shape, a1D.shape"
   ]
  },
  {
   "cell_type": "code",
   "execution_count": 28,
   "id": "434022a7-ebc4-4ec0-91a1-aedfd46cb433",
   "metadata": {},
   "outputs": [
    {
     "data": {
      "text/plain": [
       "2"
      ]
     },
     "execution_count": 28,
     "metadata": {},
     "output_type": "execute_result"
    }
   ],
   "source": [
    "arr.ndim"
   ]
  },
  {
   "cell_type": "code",
   "execution_count": 30,
   "id": "43810f4e-7031-4797-adc7-d45100f44c9f",
   "metadata": {},
   "outputs": [
    {
     "data": {
      "text/plain": [
       "6"
      ]
     },
     "execution_count": 30,
     "metadata": {},
     "output_type": "execute_result"
    }
   ],
   "source": [
    "arr.size"
   ]
  },
  {
   "cell_type": "code",
   "execution_count": 34,
   "id": "f975e182-2a57-47e2-a0e2-a71ac66f6b13",
   "metadata": {},
   "outputs": [
    {
     "data": {
      "text/plain": [
       "dtype('int8')"
      ]
     },
     "execution_count": 34,
     "metadata": {},
     "output_type": "execute_result"
    }
   ],
   "source": [
    "arr.dtype"
   ]
  },
  {
   "cell_type": "code",
   "execution_count": 35,
   "id": "5d6ea35b-6e6c-4ce4-9587-604f458b6ff4",
   "metadata": {},
   "outputs": [
    {
     "data": {
      "text/plain": [
       "1"
      ]
     },
     "execution_count": 35,
     "metadata": {},
     "output_type": "execute_result"
    }
   ],
   "source": [
    "arr.itemsize"
   ]
  },
  {
   "cell_type": "markdown",
   "id": "78f653d9-666e-405d-b480-0264c50bcc2c",
   "metadata": {},
   "source": [
    "## 2. Intrinsic NumPy array creation functions"
   ]
  },
  {
   "cell_type": "code",
   "execution_count": 37,
   "id": "7e28758b-bc0e-4e8e-9e40-d88b18fa2fc6",
   "metadata": {},
   "outputs": [
    {
     "data": {
      "text/plain": [
       "(array([2. , 2.1, 2.2, 2.3, 2.4, 2.5, 2.6, 2.7, 2.8, 2.9, 3. , 3.1, 3.2,\n",
       "        3.3, 3.4, 3.5, 3.6, 3.7, 3.8, 3.9]),\n",
       " array([0, 1, 2, 3, 4, 5, 6, 7, 8, 9]))"
      ]
     },
     "execution_count": 37,
     "metadata": {},
     "output_type": "execute_result"
    }
   ],
   "source": [
    "# 1D, 2D, nD\n",
    "# 1D\n",
    "a2 = np.arange(2, 4, 0.1) # start, stop, and step\n",
    "b2 = np.arange(10)\n",
    "a2, b2"
   ]
  },
  {
   "cell_type": "code",
   "execution_count": 38,
   "id": "2d26b1bc-93aa-4d19-bd79-f8f229253a3d",
   "metadata": {},
   "outputs": [
    {
     "data": {
      "text/plain": [
       "array([ 1.   ,  2.125,  3.25 ,  4.375,  5.5  ,  6.625,  7.75 ,  8.875,\n",
       "       10.   ])"
      ]
     },
     "execution_count": 38,
     "metadata": {},
     "output_type": "execute_result"
    }
   ],
   "source": [
    "a3 = np.linspace(1, 10, 9)\n",
    "a3"
   ]
  },
  {
   "cell_type": "code",
   "execution_count": 42,
   "id": "a970834c-a716-48dc-ad86-c276e1f03900",
   "metadata": {},
   "outputs": [
    {
     "data": {
      "text/plain": [
       "array([[1., 0.],\n",
       "       [0., 1.],\n",
       "       [0., 0.]])"
      ]
     },
     "execution_count": 42,
     "metadata": {},
     "output_type": "execute_result"
    }
   ],
   "source": [
    "# 2D\n",
    "a4 = np.eye(3, 2, k=0)\n",
    "a4"
   ]
  },
  {
   "cell_type": "code",
   "execution_count": 45,
   "id": "ebf86809-2cfa-4072-880c-9910707f06d3",
   "metadata": {},
   "outputs": [
    {
     "data": {
      "text/plain": [
       "array([0, 0])"
      ]
     },
     "execution_count": 45,
     "metadata": {},
     "output_type": "execute_result"
    }
   ],
   "source": [
    "a5 = np.diag([[1, 0, 0], [0, 2, 0], [0, 0, 3]], k=-1)\n",
    "a5"
   ]
  },
  {
   "cell_type": "code",
   "execution_count": 48,
   "id": "e904e1d4-d621-4908-b56c-afa365b1baae",
   "metadata": {
    "scrolled": true
   },
   "outputs": [
    {
     "data": {
      "text/plain": [
       "array([[[0., 0.],\n",
       "        [0., 0.],\n",
       "        [0., 0.]],\n",
       "\n",
       "       [[0., 0.],\n",
       "        [0., 0.],\n",
       "        [0., 0.]]])"
      ]
     },
     "execution_count": 48,
     "metadata": {},
     "output_type": "execute_result"
    }
   ],
   "source": [
    "# nD\n",
    "a6 = np.zeros((2, 3, 2))\n",
    "a6"
   ]
  },
  {
   "cell_type": "code",
   "execution_count": 49,
   "id": "a70490d2-aa43-4b18-aa09-eacf8fd62e06",
   "metadata": {},
   "outputs": [
    {
     "data": {
      "text/plain": [
       "array([[[1., 1.],\n",
       "        [1., 1.],\n",
       "        [1., 1.]],\n",
       "\n",
       "       [[1., 1.],\n",
       "        [1., 1.],\n",
       "        [1., 1.]]])"
      ]
     },
     "execution_count": 49,
     "metadata": {},
     "output_type": "execute_result"
    }
   ],
   "source": [
    "a7 = np.ones((2, 3, 2))\n",
    "a7"
   ]
  },
  {
   "cell_type": "markdown",
   "id": "f744bbbf-adcb-4555-b210-25ffd5153512",
   "metadata": {},
   "source": [
    "# Indexing and slicing"
   ]
  },
  {
   "cell_type": "code",
   "execution_count": 54,
   "id": "8acebb7c-3096-4dc8-ab65-2d1ed447ac0d",
   "metadata": {},
   "outputs": [
    {
     "data": {
      "text/plain": [
       "(np.int64(10), np.int64(50), np.int64(50), np.int64(40))"
      ]
     },
     "execution_count": 54,
     "metadata": {},
     "output_type": "execute_result"
    }
   ],
   "source": [
    "a8 = np.array([10, 20, 30, 40, 50])\n",
    "a8[0], a8[4], a8[-1], a8[-2]"
   ]
  },
  {
   "cell_type": "code",
   "execution_count": 60,
   "id": "65e1b721-1945-486b-9b1c-bf4fd021118e",
   "metadata": {},
   "outputs": [
    {
     "data": {
      "text/plain": [
       "(np.int64(1), np.int64(1), np.int64(8))"
      ]
     },
     "execution_count": 60,
     "metadata": {},
     "output_type": "execute_result"
    }
   ],
   "source": [
    "a9 = np.array([[1, 2, 3], [4, 5, 6], [7, 8, 9]])\n",
    "a9[0, 0], a9[0][0], a9[2, 1]"
   ]
  },
  {
   "cell_type": "code",
   "execution_count": 59,
   "id": "aec5076c-a771-423b-9cae-b623d5b08a9a",
   "metadata": {},
   "outputs": [
    {
     "data": {
      "text/plain": [
       "1"
      ]
     },
     "execution_count": 59,
     "metadata": {},
     "output_type": "execute_result"
    }
   ],
   "source": [
    "l1 = [[1, 2, 3], [4, 5, 6], [7, 8, 9]]\n",
    "l1[0][0]"
   ]
  },
  {
   "cell_type": "code",
   "execution_count": 65,
   "id": "dc6fb1c9-a336-4274-ab94-455cabef4f3d",
   "metadata": {},
   "outputs": [
    {
     "data": {
      "text/plain": [
       "(array([20, 30, 40]),\n",
       " array([10, 20, 30]),\n",
       " array([30, 40, 50]),\n",
       " array([10, 30, 50]))"
      ]
     },
     "execution_count": 65,
     "metadata": {},
     "output_type": "execute_result"
    }
   ],
   "source": [
    "# slicing\n",
    "# array[start:stop:step]\n",
    "a10 = np.array([10, 20, 30, 40, 50])\n",
    "a10[1:4:1], a10[:3], a10[2:], a10[::2]"
   ]
  },
  {
   "cell_type": "code",
   "execution_count": 66,
   "id": "2361ecaa-eff5-4995-93c4-ce8c2b3ef594",
   "metadata": {},
   "outputs": [
    {
     "data": {
      "text/plain": [
       "array([[2, 3],\n",
       "       [5, 6]])"
      ]
     },
     "execution_count": 66,
     "metadata": {},
     "output_type": "execute_result"
    }
   ],
   "source": [
    "a11 = np.array([[1, 2, 3], [4, 5, 6], [7, 8, 9]])\n",
    "a11[:2, 1:]"
   ]
  },
  {
   "cell_type": "markdown",
   "id": "bd3cf690-31ba-4b63-8da4-964e05c04457",
   "metadata": {},
   "source": [
    "# Advanced Indexing"
   ]
  },
  {
   "cell_type": "code",
   "execution_count": 67,
   "id": "159f0a60-47a8-40e7-8164-f43784504112",
   "metadata": {},
   "outputs": [
    {
     "data": {
      "text/plain": [
       "array([10, 30])"
      ]
     },
     "execution_count": 67,
     "metadata": {},
     "output_type": "execute_result"
    }
   ],
   "source": [
    "a12 = np.array([10, 20, 30, 40, 50])\n",
    "indices = [0, 2]\n",
    "a12[indices]"
   ]
  },
  {
   "cell_type": "code",
   "execution_count": 68,
   "id": "a2e48cd4-02d4-4845-a151-3966b7df464d",
   "metadata": {},
   "outputs": [
    {
     "data": {
      "text/plain": [
       "array([2, 6, 7])"
      ]
     },
     "execution_count": 68,
     "metadata": {},
     "output_type": "execute_result"
    }
   ],
   "source": [
    "a13 =  np.array([[1, 2, 3], [4, 5, 6], [7, 8, 9]])\n",
    "rows = [0, 1, 2]\n",
    "cols = [1, 2, 0]\n",
    "a13[rows, cols]"
   ]
  },
  {
   "cell_type": "code",
   "execution_count": 73,
   "id": "e20553f6-dcb6-4f32-99d5-a9e517bf040e",
   "metadata": {},
   "outputs": [
    {
     "data": {
      "text/plain": [
       "(array([30, 40, 50]), array([30, 40, 50]))"
      ]
     },
     "execution_count": 73,
     "metadata": {},
     "output_type": "execute_result"
    }
   ],
   "source": [
    "a14 = np.array([10, 20, 30, 40, 50])\n",
    "a14[a14 > 25], a14[[False, False, True, True, True]]"
   ]
  },
  {
   "cell_type": "code",
   "execution_count": 75,
   "id": "465b95c9-d104-4ca7-add4-20b293033ef8",
   "metadata": {},
   "outputs": [
    {
     "data": {
      "text/plain": [
       "array([30, 50])"
      ]
     },
     "execution_count": 75,
     "metadata": {},
     "output_type": "execute_result"
    }
   ],
   "source": [
    "a15 = np.array([10, 20, 30, 40, 50])\n",
    "indices = [0, 2, 4]\n",
    "a15[indices][a15[indices] > 25]"
   ]
  },
  {
   "cell_type": "markdown",
   "id": "e25da325-9dae-46ec-9d2d-2a2fc86305f2",
   "metadata": {},
   "source": [
    "# Element-wise Operations"
   ]
  },
  {
   "cell_type": "code",
   "execution_count": 82,
   "id": "08013c83-deba-4dd6-8e7a-5349b0c66246",
   "metadata": {},
   "outputs": [
    {
     "data": {
      "text/plain": [
       "(array([5, 6, 7]),\n",
       " array([-3, -2, -1]),\n",
       " array([ 4,  8, 12]),\n",
       " array([0.25, 0.5 , 0.75]))"
      ]
     },
     "execution_count": 82,
     "metadata": {},
     "output_type": "execute_result"
    }
   ],
   "source": [
    "# Arithmetic Operations\n",
    "a16 = np.array([1, 2, 3])\n",
    "a17 = np.array([4])\n",
    "a16 + a17, a16 - a17, a16 * a17, a16 / a17"
   ]
  },
  {
   "cell_type": "code",
   "execution_count": 84,
   "id": "c8b6d98e-7654-4470-a293-ed9a0aa4a8f4",
   "metadata": {},
   "outputs": [
    {
     "data": {
      "text/plain": [
       "(array([False, False, False]),\n",
       " array([ True,  True,  True]),\n",
       " array([False, False, False]))"
      ]
     },
     "execution_count": 84,
     "metadata": {},
     "output_type": "execute_result"
    }
   ],
   "source": [
    "# Comparison Operations\n",
    "a18 = np.array([1, 2, 3])\n",
    "a19 = np.array([4, 5, 6])\n",
    "a18 > a19, a18 < a19, a18 == a19"
   ]
  },
  {
   "cell_type": "code",
   "execution_count": 85,
   "id": "a7f5175e-8a71-41c6-9e1d-bde46a2846e4",
   "metadata": {},
   "outputs": [
    {
     "data": {
      "text/plain": [
       "(array([False, False,  True]),\n",
       " array([ True,  True,  True]),\n",
       " array([False,  True, False]))"
      ]
     },
     "execution_count": 85,
     "metadata": {},
     "output_type": "execute_result"
    }
   ],
   "source": [
    "# Logical Operations\n",
    "a20 = np.array([True, False, True])\n",
    "a21 = np.array([False, True, True])\n",
    "np.logical_and(a20, a21), np.logical_or(a20, a21), np.logical_not(a20)"
   ]
  },
  {
   "cell_type": "code",
   "execution_count": 86,
   "id": "454c6687-8d67-4a90-b5d5-889ceccb3390",
   "metadata": {},
   "outputs": [
    {
     "data": {
      "text/plain": [
       "(array([0.0000000e+00, 1.0000000e+00, 1.2246468e-16]),\n",
       " array([ 1.000000e+00,  6.123234e-17, -1.000000e+00]),\n",
       " array([ 0.00000000e+00,  1.63312394e+16, -1.22464680e-16]))"
      ]
     },
     "execution_count": 86,
     "metadata": {},
     "output_type": "execute_result"
    }
   ],
   "source": [
    "# Trigonometric Operations\n",
    "angles = np.array([0, np.pi/2, np.pi])\n",
    "np.sin(angles), np.cos(angles), np.tan(angles)"
   ]
  },
  {
   "cell_type": "code",
   "execution_count": 87,
   "id": "56008fe4-b00b-4deb-a38c-261f812f9501",
   "metadata": {},
   "outputs": [
    {
     "data": {
      "text/plain": [
       "(array([ 2.71828183,  7.3890561 , 20.08553692]),\n",
       " array([0.        , 0.69314718, 1.09861229]),\n",
       " array([0.        , 0.30103   , 0.47712125]))"
      ]
     },
     "execution_count": 87,
     "metadata": {},
     "output_type": "execute_result"
    }
   ],
   "source": [
    "# Exponential and logarithmic Operations\n",
    "a22 = np.array([1, 2, 3])\n",
    "np.exp(a22), np.log(a22), np.log10(a22)"
   ]
  },
  {
   "cell_type": "code",
   "execution_count": 88,
   "id": "318770ae-98f0-4173-84da-204b2145ba40",
   "metadata": {},
   "outputs": [
    {
     "data": {
      "text/plain": [
       "(array([ 2,  9, 64]), array([0, 1, 1]))"
      ]
     },
     "execution_count": 88,
     "metadata": {},
     "output_type": "execute_result"
    }
   ],
   "source": [
    "# Power and Modulus\n",
    "a23 = np.array([2, 3, 4])\n",
    "a24 = np.array([1, 2, 3])\n",
    "a23 ** a24, a23 % a24"
   ]
  },
  {
   "cell_type": "markdown",
   "id": "b6bb6cb6-1f44-474e-848f-179dfacbb5b6",
   "metadata": {},
   "source": [
    "# Broadcasting"
   ]
  },
  {
   "cell_type": "code",
   "execution_count": 91,
   "id": "eeef94a8-dc40-4e80-a7f9-fed8a8d4002a",
   "metadata": {},
   "outputs": [
    {
     "data": {
      "text/plain": [
       "[3, 6, 9]"
      ]
     },
     "execution_count": 91,
     "metadata": {},
     "output_type": "execute_result"
    }
   ],
   "source": [
    "a25 = np.array([1, 2, 3])\n",
    "n1 = 3\n",
    "# a25 * n1\n",
    "l1 = [1, 2, 3]\n",
    "[i * n1 for i in l1]"
   ]
  },
  {
   "cell_type": "code",
   "execution_count": 93,
   "id": "f947cc7f-dc38-4a76-8200-3d59b170c5fa",
   "metadata": {},
   "outputs": [
    {
     "data": {
      "text/plain": [
       "(2, 7, 5, 3)"
      ]
     },
     "execution_count": 93,
     "metadata": {},
     "output_type": "execute_result"
    }
   ],
   "source": [
    "shape1 = (2, 7, 1, 3)\n",
    "shape2 = (5, 3)\n",
    "arr1 = np.ones(shape1)\n",
    "arr2 = np.ones(shape2)\n",
    "\n",
    "result = arr1 + arr2\n",
    "result.shape"
   ]
  },
  {
   "cell_type": "markdown",
   "id": "940fcbfb-1a12-49f7-b3df-e76a6fdb57a9",
   "metadata": {},
   "source": [
    "# Advanced Array Manipultions"
   ]
  },
  {
   "cell_type": "code",
   "execution_count": 96,
   "id": "ed1c1261-93cc-4e06-9090-8d2a6aa45d62",
   "metadata": {},
   "outputs": [
    {
     "data": {
      "text/plain": [
       "array([[1, 2],\n",
       "       [3, 4],\n",
       "       [5, 6]])"
      ]
     },
     "execution_count": 96,
     "metadata": {},
     "output_type": "execute_result"
    }
   ],
   "source": [
    "# Reshaping Arrays\n",
    "a26 = np.array([1, 2, 3, 4, 5, 6])\n",
    "a26.reshape(-1, 2)"
   ]
  },
  {
   "cell_type": "code",
   "execution_count": 102,
   "id": "d0dce20a-703c-49c8-a646-a860d5b495bc",
   "metadata": {},
   "outputs": [
    {
     "data": {
      "text/plain": [
       "(array([1, 2, 3, 4]),\n",
       " array([[1, 2],\n",
       "        [3, 4]]))"
      ]
     },
     "execution_count": 102,
     "metadata": {},
     "output_type": "execute_result"
    }
   ],
   "source": [
    "# Stacking Arrays\n",
    "a27 = np.array([1, 2])\n",
    "a28 = np.array([3, 4])\n",
    "np.hstack((a27, a28)), np.vstack((a27, a28))"
   ]
  },
  {
   "cell_type": "code",
   "execution_count": 104,
   "id": "dc4e17eb-f751-4556-a42b-098fd246fb8d",
   "metadata": {},
   "outputs": [
    {
     "data": {
      "text/plain": [
       "[array([1, 2]), array([3, 4]), array([5, 6])]"
      ]
     },
     "execution_count": 104,
     "metadata": {},
     "output_type": "execute_result"
    }
   ],
   "source": [
    "# Splitting Arrays\n",
    "a29 = np.array([1, 2, 3, 4, 5, 6])\n",
    "np.split(a29, 3)"
   ]
  },
  {
   "cell_type": "code",
   "execution_count": 112,
   "id": "7141d01c-fa4b-46fb-a3e4-a984c89330c9",
   "metadata": {},
   "outputs": [
    {
     "data": {
      "text/plain": [
       "([array([[1],\n",
       "         [4]]),\n",
       "  array([[2],\n",
       "         [5]]),\n",
       "  array([[3],\n",
       "         [6]])],\n",
       " [array([[1, 2, 3]]), array([[4, 5, 6]])])"
      ]
     },
     "execution_count": 112,
     "metadata": {},
     "output_type": "execute_result"
    }
   ],
   "source": [
    "a30 = np.array([[1, 2, 3], [4, 5, 6]])\n",
    "np.hsplit(a30, 3), np.vsplit(a30, 2)"
   ]
  },
  {
   "cell_type": "markdown",
   "id": "e2084183-9104-42f4-aede-b3c293fd323b",
   "metadata": {},
   "source": [
    "# Copies and Views"
   ]
  },
  {
   "cell_type": "code",
   "execution_count": 113,
   "id": "1be991c3-0551-4674-b730-415fcf9bcbd4",
   "metadata": {},
   "outputs": [
    {
     "data": {
      "text/plain": [
       "(array([10,  3,  4]), array([ 0,  1, 10,  3,  4,  5,  6,  7,  8,  9]))"
      ]
     },
     "execution_count": 113,
     "metadata": {},
     "output_type": "execute_result"
    }
   ],
   "source": [
    "# view\n",
    "a31 = np.arange(10)\n",
    "b31 = a31[2:5]\n",
    "b31[0] = 10\n",
    "b31, a31"
   ]
  },
  {
   "cell_type": "code",
   "execution_count": 114,
   "id": "358b899e-0095-45db-bf07-077dbcfaef66",
   "metadata": {},
   "outputs": [
    {
     "data": {
      "text/plain": [
       "(array([[10,  2,  3],\n",
       "        [ 7,  8,  9]]),\n",
       " array([[1, 2, 3],\n",
       "        [4, 5, 6],\n",
       "        [7, 8, 9]]))"
      ]
     },
     "execution_count": 114,
     "metadata": {},
     "output_type": "execute_result"
    }
   ],
   "source": [
    "# copy\n",
    "a32 = np.arange(1, 10).reshape(3, 3)\n",
    "b32 = a32[[0, 2]]\n",
    "b32[0, 0] = 10\n",
    "b32, a32"
   ]
  },
  {
   "cell_type": "markdown",
   "id": "3956d26e-f686-4b3c-abfc-476ded9f492e",
   "metadata": {},
   "source": [
    "# Structured Arrays"
   ]
  },
  {
   "cell_type": "code",
   "execution_count": 121,
   "id": "285d0491-aa11-4ae2-9403-b95f862fe0cf",
   "metadata": {},
   "outputs": [
    {
     "data": {
      "text/plain": [
       "array([('Alice', 25, 65.2), ('Bob', 38, 72.9), ('Charlie', 35, 68.5)],\n",
       "      dtype=[('name', '<U20'), ('age', '<i4'), ('weight', '<f8')])"
      ]
     },
     "execution_count": 121,
     "metadata": {},
     "output_type": "execute_result"
    }
   ],
   "source": [
    "dtype = np.dtype([\n",
    "    ('name', 'U20'),\n",
    "    ('age', np.int32),\n",
    "    ('weight', np.float64)\n",
    "])\n",
    "data = np.array([\n",
    "    ('Alice', 25, 65.2),\n",
    "    ('Bob', 38, 72.9),\n",
    "    ('Charlie', 35, 68.5)\n",
    "], dtype=dtype)\n",
    "\n",
    "data"
   ]
  },
  {
   "cell_type": "code",
   "execution_count": 122,
   "id": "f3144ca7-2b87-4ef1-b442-dec0faba14bb",
   "metadata": {},
   "outputs": [
    {
     "data": {
      "text/plain": [
       "array([('Alice', 25, 65.2), ('Charlie', 35, 68.5), ('Bob', 38, 72.9)],\n",
       "      dtype=[('name', '<U20'), ('age', '<i4'), ('weight', '<f8')])"
      ]
     },
     "execution_count": 122,
     "metadata": {},
     "output_type": "execute_result"
    }
   ],
   "source": [
    "# data[0]\n",
    "# data[0]['name']\n",
    "# avg_age = np.mean(data['age'])\n",
    "# avg_age\n",
    "sorted_data = np.sort(data, order='age')\n",
    "sorted_data"
   ]
  },
  {
   "cell_type": "markdown",
   "id": "ee9065cf-0942-4316-a5b0-8c32d4f12d27",
   "metadata": {},
   "source": [
    "# Linear Algebra Operations"
   ]
  },
  {
   "cell_type": "code",
   "execution_count": 124,
   "id": "f1d23809-236d-464a-a215-9fc7b744086a",
   "metadata": {},
   "outputs": [
    {
     "data": {
      "text/plain": [
       "(np.int64(32), array([-3,  6, -3]))"
      ]
     },
     "execution_count": 124,
     "metadata": {},
     "output_type": "execute_result"
    }
   ],
   "source": [
    "vector_a = np.array([1, 2, 3])\n",
    "vector_b = np.array([4, 5, 6])\n",
    "dot_product = np.dot(vector_a, vector_b)\n",
    "dot_product, np.cross(vector_a, vector_b)"
   ]
  },
  {
   "cell_type": "code",
   "execution_count": 125,
   "id": "a3ca3fa6-a756-4f0f-9d92-230bf7c04d4b",
   "metadata": {},
   "outputs": [
    {
     "data": {
      "text/plain": [
       "array([[1, 4],\n",
       "       [2, 5],\n",
       "       [3, 6]])"
      ]
     },
     "execution_count": 125,
     "metadata": {},
     "output_type": "execute_result"
    }
   ],
   "source": [
    "matrix = np.array([[1, 2, 3], [4, 5, 6]])\n",
    "np.transpose(matrix)"
   ]
  },
  {
   "cell_type": "code",
   "execution_count": 127,
   "id": "fcf5edc3-b7dd-43d9-b6f9-9ccf0815a97c",
   "metadata": {},
   "outputs": [
    {
     "data": {
      "text/plain": [
       "(np.float64(-2.0000000000000004),\n",
       " array([[-2. ,  1. ],\n",
       "        [ 1.5, -0.5]]))"
      ]
     },
     "execution_count": 127,
     "metadata": {},
     "output_type": "execute_result"
    }
   ],
   "source": [
    "from numpy.linalg import det, inv\n",
    "matrix2 = np.array([[1, 2], [3, 4]])\n",
    "det(matrix2), inv(matrix2)"
   ]
  },
  {
   "cell_type": "code",
   "execution_count": 128,
   "id": "97dba546-10f7-497e-9ca4-4c68319cc9de",
   "metadata": {},
   "outputs": [
    {
     "data": {
      "text/plain": [
       "(array([3., 1.]),\n",
       " array([[ 0.70710678, -0.70710678],\n",
       "        [ 0.70710678,  0.70710678]]))"
      ]
     },
     "execution_count": 128,
     "metadata": {},
     "output_type": "execute_result"
    }
   ],
   "source": [
    "from numpy.linalg import eig\n",
    "matrix3 = np.array([[2, 1], [1, 2]])\n",
    "eigenValues, eigenVectors = eig(matrix3)\n",
    "eigenValues, eigenVectors"
   ]
  },
  {
   "cell_type": "markdown",
   "id": "7e394606-f639-49a7-aa24-c74c401ecfc9",
   "metadata": {},
   "source": [
    "# Random Number Generation"
   ]
  },
  {
   "cell_type": "code",
   "execution_count": 131,
   "id": "79aa2130-b8f1-4db6-85f2-e8a26b32489c",
   "metadata": {},
   "outputs": [
    {
     "data": {
      "text/plain": [
       "(0.6501515611399109,\n",
       " array([0.63420413, 0.95112249, 0.08238223]),\n",
       " array([[0.68301829, 0.56553217, 0.21741767],\n",
       "        [0.71008195, 0.84152404, 0.33564198]]))"
      ]
     },
     "execution_count": 131,
     "metadata": {},
     "output_type": "execute_result"
    }
   ],
   "source": [
    "np.random.rand(), np.random.rand(3), np.random.rand(2, 3)"
   ]
  },
  {
   "cell_type": "code",
   "execution_count": 133,
   "id": "69c95e68-e11f-412d-8eab-475896d78372",
   "metadata": {},
   "outputs": [
    {
     "data": {
      "text/plain": [
       "(8,\n",
       " array([[2, 6, 8],\n",
       "        [7, 8, 3]], dtype=int32))"
      ]
     },
     "execution_count": 133,
     "metadata": {},
     "output_type": "execute_result"
    }
   ],
   "source": [
    "np.random.randint(1, 10), np.random.randint(1, 10, size=(2, 3))"
   ]
  },
  {
   "cell_type": "code",
   "execution_count": 134,
   "id": "508e1f84-c88e-4343-81bf-b0770de31ada",
   "metadata": {},
   "outputs": [
    {
     "data": {
      "text/plain": [
       "(np.int64(40), array([30, 30, 20]))"
      ]
     },
     "execution_count": 134,
     "metadata": {},
     "output_type": "execute_result"
    }
   ],
   "source": [
    "list1 = [10, 20, 30, 40, 50]\n",
    "np.random.choice(list1), np.random.choice(list1, size=3)"
   ]
  },
  {
   "cell_type": "code",
   "execution_count": 138,
   "id": "f5dd5d0b-dba7-430d-9b46-6a5b75de9a11",
   "metadata": {},
   "outputs": [
    {
     "data": {
      "text/plain": [
       "(array([3, 1, 4, 5, 2]), array([1, 2, 3, 4, 5]))"
      ]
     },
     "execution_count": 138,
     "metadata": {},
     "output_type": "execute_result"
    }
   ],
   "source": [
    "a33 = np.array([1, 2, 3, 4, 5])\n",
    "# np.random.shuffle(a33)\n",
    "# a33\n",
    "np.random.permutation(a33), a33"
   ]
  },
  {
   "cell_type": "markdown",
   "id": "71428ed6-0bb9-48fd-baaa-d55d622d2bca",
   "metadata": {},
   "source": [
    "# Questions\n",
    "\n",
    "## Q1. Write a function that:\n",
    " 1. Creates a 3x3 NumPy array with random integers between 1 and 20.\n",
    " 2. Replaces all even numbers in the array with -1.\n",
    " 3. Returns the modified array.\n",
    "\n",
    "## Q2. Given two NumPy arrays, perform the following:\n",
    " 1. Multiply their corresponding elements.\n",
    " 2. Add 5 to each element of the result.\n",
    " 3. Return the final array.\n",
    "\n",
    "## Q3. Write a function that:\n",
    " 1. Takes a 4x4 NumPy array as input.\n",
    " 2. Extracts the second and third rows.\n",
    " 3. Computes the sum of each column in the sliced array.\n",
    " 4. Returns the result as a 1D array.\n",
    "\n",
    "## Q4. Write a function that:\n",
    " 1. Generates 15 random numbers from a uniform distribution between 0 and 1.\n",
    " 2. Reshapes them into a 3x5 array.\n",
    " 3. Normalizes the array so that its maximum value becomes 1 and its minimum value becomes 0.\n",
    " 4. Returns the normalized array.\n",
    "\n",
    "## Q5. Create a function that:\n",
    " 1. Generates a 6x6 NumPy array with random integers between 10 and 50.\n",
    " 2. Extracts all elements that are divisible by 5.\n",
    " 3. Replaces these elements with 100.\n",
    " 4. Returns the modified array and the extracted elements."
   ]
  },
  {
   "cell_type": "code",
   "execution_count": 147,
   "id": "8dc3ccd2-b43f-486b-b899-0529b9cffb0f",
   "metadata": {},
   "outputs": [
    {
     "name": "stdout",
     "output_type": "stream",
     "text": [
      "Original Array:  [[19  6 12]\n",
      " [ 4  3 13]\n",
      " [11  8  6]]\n"
     ]
    },
    {
     "data": {
      "text/plain": [
       "array([[19, -1, -1],\n",
       "       [-1,  3, 13],\n",
       "       [11, -1, -1]], dtype=int32)"
      ]
     },
     "execution_count": 147,
     "metadata": {},
     "output_type": "execute_result"
    }
   ],
   "source": [
    "# sol 1\n",
    "def replace_evens():\n",
    "    arr = np.random.randint(1, 21, size=(3, 3))\n",
    "    print(\"Original Array: \", arr)\n",
    "    arr[arr % 2 == 0] = -1\n",
    "    return arr\n",
    "\n",
    "replace_evens()"
   ]
  },
  {
   "cell_type": "code",
   "execution_count": 148,
   "id": "55255f9f-18ed-4fd1-ad6f-56c23b42dee4",
   "metadata": {},
   "outputs": [
    {
     "data": {
      "text/plain": [
       "array([ 9, 15, 23])"
      ]
     },
     "execution_count": 148,
     "metadata": {},
     "output_type": "execute_result"
    }
   ],
   "source": [
    "# sol 2\n",
    "arr1 = np.array([1, 2, 3])\n",
    "arr2 = np.array([4, 5, 6])\n",
    "result = arr1 * arr2\n",
    "result += 5\n",
    "result"
   ]
  },
  {
   "cell_type": "code",
   "execution_count": 149,
   "id": "6bc6022e-b5ce-4229-80dd-0916c97021c3",
   "metadata": {},
   "outputs": [
    {
     "data": {
      "text/plain": [
       "(array([[15, 12, 18, 11],\n",
       "        [12,  1, 11, 15],\n",
       "        [12,  3,  2, 16],\n",
       "        [13, 19, 14,  5]], dtype=int32),\n",
       " array([24,  4, 13, 31]))"
      ]
     },
     "execution_count": 149,
     "metadata": {},
     "output_type": "execute_result"
    }
   ],
   "source": [
    "# sol 3\n",
    "def slice_and_analyze(arr):\n",
    "    sliced_arr = arr[1:3, :]\n",
    "    col_sum = np.sum(sliced_arr, axis=0)\n",
    "    return col_sum\n",
    "\n",
    "arr3 = np.random.randint(1, 21, size=(4, 4))\n",
    "arr3, slice_and_analyze(arr3)"
   ]
  },
  {
   "cell_type": "code",
   "execution_count": 150,
   "id": "6218380e-3ce0-4310-a3b8-55d22e49219b",
   "metadata": {},
   "outputs": [
    {
     "name": "stdout",
     "output_type": "stream",
     "text": [
      "Original array:  [0.41868153 0.46552533 0.02893849 0.63046217 0.68165774 0.50009793\n",
      " 0.81487008 0.17048216 0.31047655 0.38956653 0.84198787 0.96608177\n",
      " 0.4695759  0.50670213 0.08645886]\n"
     ]
    },
    {
     "data": {
      "text/plain": [
       "array([[0.41588415, 0.46586989, 0.        , 0.64186949, 0.69649888],\n",
       "       [0.50276137, 0.83864614, 0.15103738, 0.30042157, 0.38481633],\n",
       "       [0.86758278, 1.        , 0.47019214, 0.50980853, 0.06137841]])"
      ]
     },
     "execution_count": 150,
     "metadata": {},
     "output_type": "execute_result"
    }
   ],
   "source": [
    "# sol 4\n",
    "def normalized_random_array():\n",
    "    arr = np.random.rand(15)\n",
    "    print(\"Original array: \", arr)\n",
    "    arr = arr.reshape(3, 5)\n",
    "    arr_min = np.min(arr)\n",
    "    arr_max = np.max(arr)\n",
    "    normalized_arr = (arr - arr_min) / (arr_max - arr_min)\n",
    "    return normalized_arr\n",
    "\n",
    "normalized_random_array()"
   ]
  },
  {
   "cell_type": "code",
   "execution_count": 151,
   "id": "b74edbc6-4ab3-48b9-8563-d9dc4ac8cc26",
   "metadata": {},
   "outputs": [
    {
     "name": "stdout",
     "output_type": "stream",
     "text": [
      "Original array:  [[42 35 14 25 12 32]\n",
      " [37 39 10 40 32 25]\n",
      " [16 14 46 11 39 14]\n",
      " [33 36 41 37 29 27]\n",
      " [45 30 24 32 47 45]\n",
      " [35 10 35 26 45 22]]\n"
     ]
    },
    {
     "data": {
      "text/plain": [
       "(array([[ 42, 100,  14, 100,  12,  32],\n",
       "        [ 37,  39, 100, 100,  32, 100],\n",
       "        [ 16,  14,  46,  11,  39,  14],\n",
       "        [ 33,  36,  41,  37,  29,  27],\n",
       "        [100, 100,  24,  32,  47, 100],\n",
       "        [100, 100, 100,  26, 100,  22]], dtype=int32),\n",
       " array([35, 25, 10, 40, 25, 45, 30, 45, 35, 10, 35, 45], dtype=int32))"
      ]
     },
     "execution_count": 151,
     "metadata": {},
     "output_type": "execute_result"
    }
   ],
   "source": [
    "# sol 5\n",
    "def advanced_indexing():\n",
    "    arr = np.random.randint(10, 51, size=(6, 6))\n",
    "    print(\"Original array: \", arr)\n",
    "    divisible_by_5 = arr[arr % 5 == 0]\n",
    "    arr[arr % 5 == 0] = 100\n",
    "    return arr, divisible_by_5\n",
    "\n",
    "advanced_indexing()"
   ]
  },
  {
   "cell_type": "code",
   "execution_count": null,
   "id": "ff930b1b-e1c8-4d3e-a82b-37a78dfd8da4",
   "metadata": {},
   "outputs": [],
   "source": []
  }
 ],
 "metadata": {
  "kernelspec": {
   "display_name": "Python 3 (ipykernel)",
   "language": "python",
   "name": "python3"
  },
  "language_info": {
   "codemirror_mode": {
    "name": "ipython",
    "version": 3
   },
   "file_extension": ".py",
   "mimetype": "text/x-python",
   "name": "python",
   "nbconvert_exporter": "python",
   "pygments_lexer": "ipython3",
   "version": "3.12.6"
  }
 },
 "nbformat": 4,
 "nbformat_minor": 5
}
